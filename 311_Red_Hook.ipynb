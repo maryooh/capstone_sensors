{
 "cells": [
  {
   "cell_type": "markdown",
   "metadata": {},
   "source": [
    "# Notebook for exploratory 311 data analysis for Red Hook zip code\n",
    "\n",
    "Full disclosure: anything remotely fancy taken from https://github.com/Casyfill/parqa/blob/master/311/311_opendata.ipynb"
   ]
  },
  {
   "cell_type": "code",
   "execution_count": 32,
   "metadata": {
    "collapsed": false
   },
   "outputs": [
    {
     "name": "stdout",
     "output_type": "stream",
     "text": [
      "Populating the interactive namespace from numpy and matplotlib\n"
     ]
    },
    {
     "name": "stderr",
     "output_type": "stream",
     "text": [
      "WARNING: pylab import has clobbered these variables: ['imread']\n",
      "`%matplotlib` prevents importing * from pylab and numpy\n"
     ]
    }
   ],
   "source": [
    "from __future__ import print_function\n",
    "__author__ = 'mo'\n",
    "import pylab as pl\n",
    "import numpy as np\n",
    "%pylab inline\n",
    "\n",
    "import matplotlib.pyplot as plt\n",
    "%matplotlib inline\n",
    "\n",
    "import pandas as pd\n",
    "import geopandas as gp\n",
    "import json\n",
    "\n",
    "import statsmodels.formula.api as smf\n",
    "from statsmodels.graphics.api import abline_plot \n",
    "\n",
    "\n",
    "import sklearn.cluster\n",
    "from sklearn import mixture\n",
    "from PIL import Image\n",
    "from scipy.misc import imread\n",
    "from scipy.cluster.vq import kmeans2\n",
    "#import mplleaflet\n",
    "#import shapely.geometry as geom\n",
    "import networkx as nx\n",
    "import xlrd"
   ]
  },
  {
   "cell_type": "code",
   "execution_count": 2,
   "metadata": {
    "collapsed": false
   },
   "outputs": [
    {
     "name": "stderr",
     "output_type": "stream",
     "text": [
      "/Users/mariaortiz/anaconda/lib/python2.7/site-packages/IPython/core/interactiveshell.py:2902: DtypeWarning: Columns (39) have mixed types. Specify dtype option on import or set low_memory=False.\n",
      "  interactivity=interactivity, compiler=compiler, result=result)\n"
     ]
    }
   ],
   "source": [
    "data311 = pd.read_csv('311RedHook.csv')"
   ]
  },
  {
   "cell_type": "markdown",
   "metadata": {},
   "source": [
    "# Looking at data"
   ]
  },
  {
   "cell_type": "code",
   "execution_count": 3,
   "metadata": {
    "collapsed": false
   },
   "outputs": [
    {
     "data": {
      "text/plain": [
       "Index([u'﻿Unique Key', u'Created Date', u'Closed Date', u'Agency',\n",
       "       u'Agency Name', u'Complaint Type', u'Descriptor', u'Location Type',\n",
       "       u'Incident Zip', u'Incident Address', u'Street Name', u'Cross Street 1',\n",
       "       u'Cross Street 2', u'Intersection Street 1', u'Intersection Street 2',\n",
       "       u'Address Type', u'City', u'Landmark', u'Facility Type', u'Status',\n",
       "       u'Due Date', u'Resolution Description',\n",
       "       u'Resolution Action Updated Date', u'Community Board', u'Borough',\n",
       "       u'X Coordinate (State Plane)', u'Y Coordinate (State Plane)',\n",
       "       u'Park Facility Name', u'Park Borough', u'School Name',\n",
       "       u'School Number', u'School Region', u'School Code',\n",
       "       u'School Phone Number', u'School Address', u'School City',\n",
       "       u'School State', u'School Zip', u'School Not Found',\n",
       "       u'School or Citywide Complaint', u'Vehicle Type',\n",
       "       u'Taxi Company Borough', u'Taxi Pick Up Location',\n",
       "       u'Bridge Highway Name', u'Bridge Highway Direction', u'Road Ramp',\n",
       "       u'Bridge Highway Segment', u'Garage Lot Name', u'Ferry Direction',\n",
       "       u'Ferry Terminal Name', u'Latitude', u'Longitude', u'Location'],\n",
       "      dtype='object')"
      ]
     },
     "execution_count": 3,
     "metadata": {},
     "output_type": "execute_result"
    }
   ],
   "source": [
    "data311.columns"
   ]
  },
  {
   "cell_type": "code",
   "execution_count": 8,
   "metadata": {
    "collapsed": false
   },
   "outputs": [
    {
     "data": {
      "text/plain": [
       "﻿Unique Key                       42369\n",
       "Created Date                      42369\n",
       "Closed Date                       40601\n",
       "Agency                            42369\n",
       "Agency Name                       42369\n",
       "Complaint Type                    42369\n",
       "Descriptor                        42235\n",
       "Location Type                     25603\n",
       "Incident Zip                      42369\n",
       "Incident Address                  31568\n",
       "Street Name                       31568\n",
       "Cross Street 1                    31083\n",
       "Cross Street 2                    31055\n",
       "Intersection Street 1             10226\n",
       "Intersection Street 2             10226\n",
       "Address Type                      41549\n",
       "City                              42365\n",
       "Landmark                             37\n",
       "Facility Type                      9319\n",
       "Status                            42369\n",
       "Due Date                          15157\n",
       "Resolution Description            19972\n",
       "Resolution Action Updated Date    41494\n",
       "Community Board                   42369\n",
       "Borough                           42369\n",
       "X Coordinate (State Plane)        41988\n",
       "Y Coordinate (State Plane)        41988\n",
       "Park Facility Name                42369\n",
       "Park Borough                      42369\n",
       "School Name                       42369\n",
       "School Number                     42359\n",
       "School Region                     42007\n",
       "School Code                       42007\n",
       "School Phone Number               42369\n",
       "School Address                    42369\n",
       "School City                       42369\n",
       "School State                      42369\n",
       "School Zip                        42369\n",
       "School Not Found                  14689\n",
       "School or Citywide Complaint          5\n",
       "Vehicle Type                         32\n",
       "Taxi Company Borough                 65\n",
       "Taxi Pick Up Location               611\n",
       "Bridge Highway Name                 416\n",
       "Bridge Highway Direction            416\n",
       "Road Ramp                           415\n",
       "Bridge Highway Segment              415\n",
       "Garage Lot Name                       0\n",
       "Ferry Direction                       0\n",
       "Ferry Terminal Name                  11\n",
       "Latitude                          41988\n",
       "Longitude                         41988\n",
       "Location                          41988\n",
       "dtype: int64"
      ]
     },
     "execution_count": 8,
     "metadata": {},
     "output_type": "execute_result"
    }
   ],
   "source": [
    "data311.count()"
   ]
  },
  {
   "cell_type": "code",
   "execution_count": 31,
   "metadata": {
    "collapsed": false
   },
   "outputs": [
    {
     "name": "stdout",
     "output_type": "stream",
     "text": [
      "0 :  ﻿Unique Key\n",
      "1 :  Created Date\n",
      "2 :  Closed Date\n",
      "3 :  Agency\n",
      "4 :  Agency Name\n",
      "5 :  Complaint Type\n",
      "6 :  Descriptor\n",
      "7 :  Location Type\n",
      "8 :  Incident Zip\n",
      "9 :  Incident Address\n",
      "10 :  Street Name\n",
      "11 :  Cross Street 1\n",
      "12 :  Cross Street 2\n",
      "13 :  Intersection Street 1\n",
      "14 :  Intersection Street 2\n",
      "15 :  Address Type\n",
      "16 :  City\n",
      "17 :  Landmark\n",
      "18 :  Facility Type\n",
      "19 :  Status\n",
      "20 :  Due Date\n",
      "21 :  Resolution Description\n",
      "22 :  Resolution Action Updated Date\n",
      "23 :  Community Board\n",
      "24 :  Borough\n",
      "25 :  X Coordinate (State Plane)\n",
      "26 :  Y Coordinate (State Plane)\n",
      "27 :  Park Facility Name\n",
      "28 :  Park Borough\n",
      "29 :  School Name\n",
      "30 :  School Number\n",
      "31 :  School Region\n",
      "32 :  School Code\n",
      "33 :  School Phone Number\n",
      "34 :  School Address\n",
      "35 :  School City\n",
      "36 :  School State\n",
      "37 :  School Zip\n",
      "38 :  School Not Found\n",
      "39 :  School or Citywide Complaint\n",
      "40 :  Vehicle Type\n",
      "41 :  Taxi Company Borough\n",
      "42 :  Taxi Pick Up Location\n",
      "43 :  Bridge Highway Name\n",
      "44 :  Bridge Highway Direction\n",
      "45 :  Road Ramp\n",
      "46 :  Bridge Highway Segment\n",
      "47 :  Garage Lot Name\n",
      "48 :  Ferry Direction\n",
      "49 :  Ferry Terminal Name\n",
      "50 :  Latitude\n",
      "51 :  Longitude\n",
      "52 :  Location\n"
     ]
    }
   ],
   "source": [
    "#looking at columns\n",
    "for i, x in enumerate(data311.columns): print( i,': ', x)"
   ]
  },
  {
   "cell_type": "code",
   "execution_count": 7,
   "metadata": {
    "collapsed": false
   },
   "outputs": [
    {
     "data": {
      "text/plain": [
       "42369"
      ]
     },
     "execution_count": 7,
     "metadata": {},
     "output_type": "execute_result"
    }
   ],
   "source": [
    "data311['Incident Zip'].count()"
   ]
  },
  {
   "cell_type": "code",
   "execution_count": 13,
   "metadata": {
    "collapsed": false
   },
   "outputs": [
    {
     "data": {
      "text/plain": [
       "array(['Dirty Conditions', 'Street Condition', 'Noise - Commercial',\n",
       "       'General Construction/Plumbing', 'Sanitation Condition',\n",
       "       'Illegal Parking', 'Street Light Condition', 'Sewer', 'Smoking',\n",
       "       'Electrical', 'Derelict Vehicles', 'Air Quality',\n",
       "       'Investigations and Discipline (IAD)', 'Noise', 'Building/Use',\n",
       "       'Overgrown Tree/Branches', 'Traffic Signal Condition',\n",
       "       'Water System', 'Lead', 'Missed Collection (All Materials)',\n",
       "       'Special Enforcement', 'Plumbing', 'Hazardous Materials',\n",
       "       'Elevator', 'Graffiti', 'Taxi Complaint', 'Vector',\n",
       "       'For Hire Vehicle Complaint', 'Water Conservation',\n",
       "       'Cranes and Derricks', 'Other Enforcement',\n",
       "       'Overflowing Litter Baskets', 'PAINT/PLASTER',\n",
       "       'Noise - Street/Sidewalk', 'Damaged Tree', 'Street Sign - Missing',\n",
       "       'Industrial Waste', 'Dead Tree',\n",
       "       'Special Projects Inspection Team (SPIT)', 'Traffic',\n",
       "       'Consumer Complaint', 'Blocked Driveway', 'Asbestos',\n",
       "       'Sweeping/Missed-Inadequate', 'Derelict Bicycle', 'Noise - Vehicle',\n",
       "       'Maintenance or Facility', 'Illegal Tree Damage', 'Snow',\n",
       "       'BEST/Site Safety', 'Street Sign - Damaged', 'Sidewalk Condition',\n",
       "       'Water Quality', 'Drinking', 'Highway Condition', 'Boilers',\n",
       "       'Litter Basket / Request', 'Derelict Vehicle',\n",
       "       'Noise - House of Worship', 'Scaffold Safety', 'Unleashed Dog',\n",
       "       'Disorderly Youth', 'Noise - Helicopter', 'DPR Internal', 'Rodent',\n",
       "       'Food Establishment', 'HEAT/HOT WATER', 'Vending',\n",
       "       'Homeless Person Assistance', 'Root/Sewer/Sidewalk Condition',\n",
       "       'Highway Sign - Missing', 'School Maintenance',\n",
       "       'Unsanitary Animal Pvt Property', 'Noise - Park',\n",
       "       'Indoor Air Quality', 'Animal Abuse', 'Sweeping/Missed',\n",
       "       'Standing Water', 'Broken Muni Meter',\n",
       "       'Emergency Response Team (ERT)', 'Unsanitary Animal Facility',\n",
       "       'Animal in a Park', 'Vacant Lot', 'Food Poisoning',\n",
       "       'Found Property', 'Stalled Sites', 'Collection Truck Noise',\n",
       "       'Illegal Fireworks', 'Recycling Enforcement',\n",
       "       'Illegal Animal Kept as Pet', 'Fire Alarm - Reinspection',\n",
       "       'HEATING', 'GENERAL CONSTRUCTION', 'PLUMBING',\n",
       "       'Overflowing Recycling Baskets', 'Homeless Encampment',\n",
       "       'Street Sign - Dangling', 'Miscellaneous Categories', 'GENERAL',\n",
       "       'Taxi Report', 'SAFETY', 'Sweeping/Inadequate', 'WATER LEAK',\n",
       "       'UNSANITARY CONDITION', 'DOOR/WINDOW', 'SCRIE', 'ELECTRIC',\n",
       "       'Indoor Sewage', 'Panhandling', 'FLOORING/STAIRS', 'Curb Condition',\n",
       "       'DOF Property - Reduction Issue', 'Bike/Roller/Skate Chronic',\n",
       "       'Animal Facility - No Permit', 'Harboring Bees/Wasps',\n",
       "       'Senior Center Complaint', 'Fire Alarm - Replacement',\n",
       "       'Non-Residential Heat', 'NONCONST', 'PAINT - PLASTER', 'APPLIANCE',\n",
       "       'Safety', 'CONSTRUCTION', 'DOE Complaint or Compliment',\n",
       "       'DOF Property - Update Account', 'Violation of Park Rules',\n",
       "       'Public Payphone Complaint', 'Broken Parking Meter',\n",
       "       'Urinating in Public', 'Summer Camp', 'OEM Disabled Vehicle',\n",
       "       'X-Ray Machine/Equipment', 'Unsanitary Pigeon Condition',\n",
       "       'Tattooing', 'Drinking Water', 'Beach/Pool/Sauna Complaint',\n",
       "       'Bike Rack Condition', 'Noise Survey', 'Mold',\n",
       "       'Highway Sign - Damaged', 'Construction',\n",
       "       'Bus Stop Shelter Placement', 'Highway Sign - Dangling',\n",
       "       'Fire Safety Director - F58', 'Poison Ivy',\n",
       "       'Fire Alarm - New System', 'City Vehicle Placard Complaint',\n",
       "       'Open Flame Permit', 'Illegal Animal Sold', 'Public Toilet',\n",
       "       'Public Assembly', 'New Tree Request',\n",
       "       'Request Xmas Tree Collection', 'OUTSIDE BUILDING',\n",
       "       'DOF Parking - Tax Exemption', 'DOF Property - Payment Issue',\n",
       "       'Window Guard', 'ELEVATOR', 'Dead/Dying Tree',\n",
       "       'Legal Services Provider Complaint', 'Noise - Residential',\n",
       "       'Posting Advertisement', 'Non-Emergency Police Matter', 'Day Care'], dtype=object)"
      ]
     },
     "execution_count": 13,
     "metadata": {},
     "output_type": "execute_result"
    }
   ],
   "source": [
    "data311['Complaint Type'].unique()"
   ]
  },
  {
   "cell_type": "markdown",
   "metadata": {},
   "source": [
    "# Top 20 complaints by type"
   ]
  },
  {
   "cell_type": "code",
   "execution_count": 59,
   "metadata": {
    "collapsed": false
   },
   "outputs": [
    {
     "data": {
      "text/plain": [
       "Street Condition                     3670\n",
       "Street Light Condition               3509\n",
       "Noise                                2132\n",
       "Illegal Parking                      2120\n",
       "General Construction/Plumbing        1538\n",
       "Water System                         1479\n",
       "HEATING                              1433\n",
       "Sanitation Condition                 1175\n",
       "Blocked Driveway                     1117\n",
       "Missed Collection (All Materials)    1061\n",
       "Dirty Conditions                     1041\n",
       "Sewer                                 999\n",
       "Noise - Commercial                    892\n",
       "Traffic Signal Condition              884\n",
       "GENERAL CONSTRUCTION                  856\n",
       "Damaged Tree                          821\n",
       "PLUMBING                              751\n",
       "HEAT/HOT WATER                        699\n",
       "Taxi Complaint                        661\n",
       "Rodent                                617\n",
       "Name: Complaint Type, dtype: int64"
      ]
     },
     "execution_count": 59,
     "metadata": {},
     "output_type": "execute_result"
    }
   ],
   "source": [
    "#looking at top 20 \n",
    "top20 = data311['Complaint Type'].value_counts().head(20)\n",
    "top20"
   ]
  },
  {
   "cell_type": "code",
   "execution_count": 74,
   "metadata": {
    "collapsed": false
   },
   "outputs": [
    {
     "data": {
      "text/plain": [
       "<matplotlib.axes._subplots.AxesSubplot at 0x11b227bd0>"
      ]
     },
     "execution_count": 74,
     "metadata": {},
     "output_type": "execute_result"
    },
    {
     "data": {
      "image/png": "[encoded data removed]",
      "text/plain": [
       "<matplotlib.figure.Figure at 0x11b236690>"
      ]
     },
     "metadata": {},
     "output_type": "display_data"
    }
   ],
   "source": [
    "#this graph needs work...\n",
    "#top20.value_counts(ascending=True).plot(kind='barh', color='red', alpha=.5, title='Complaints per type')\n",
    "data311['Complaint Type'].value_counts(ascending=True).head(20).plot(kind='barh', color='red', alpha=.5, title='Complaints per type')"
   ]
  },
  {
   "cell_type": "markdown",
   "metadata": {},
   "source": [
    "# Type of complaint by agency"
   ]
  },
  {
   "cell_type": "code",
   "execution_count": 48,
   "metadata": {
    "collapsed": false
   },
   "outputs": [
    {
     "data": {
      "text/plain": [
       "Agency  Complaint Type                         \n",
       "3-1-1   Noise Survey                                 52\n",
       "        OEM Disabled Vehicle                         21\n",
       "        City Vehicle Placard Complaint               12\n",
       "DCA     Consumer Complaint                          608\n",
       "DEP     Noise                                      2132\n",
       "        Water System                               1479\n",
       "        Sewer                                       999\n",
       "        Air Quality                                 588\n",
       "        Lead                                        465\n",
       "        Hazardous Materials                         258\n",
       "        Water Conservation                          133\n",
       "        Asbestos                                     83\n",
       "        Industrial Waste                             83\n",
       "        Water Quality                                48\n",
       "DFTA    Senior Center Complaint                      11\n",
       "        Legal Services Provider Complaint             1\n",
       "DHS     Homeless Person Assistance                   31\n",
       "DOB     General Construction/Plumbing              1538\n",
       "        Building/Use                                498\n",
       "        Special Enforcement                         242\n",
       "        Electrical                                  143\n",
       "        Plumbing                                    108\n",
       "        Special Projects Inspection Team (SPIT)      95\n",
       "        BEST/Site Safety                             77\n",
       "        Investigations and Discipline (IAD)          55\n",
       "        Elevator                                     43\n",
       "        Boilers                                      38\n",
       "        Scaffold Safety                              17\n",
       "        Stalled Sites                                15\n",
       "        Cranes and Derricks                          14\n",
       "                                                   ... \n",
       "HPD     SAFETY                                       41\n",
       "        OUTSIDE BUILDING                              9\n",
       "        CONSTRUCTION                                  7\n",
       "        ELEVATOR                                      3\n",
       "NYPD    Illegal Parking                            2120\n",
       "        Blocked Driveway                           1117\n",
       "        Noise - Commercial                          892\n",
       "        Noise - Street/Sidewalk                     553\n",
       "        Noise - Vehicle                             456\n",
       "        Derelict Vehicle                            356\n",
       "        Traffic                                     173\n",
       "        Animal Abuse                                107\n",
       "        Homeless Encampment                          51\n",
       "        Noise - Park                                 51\n",
       "        Disorderly Youth                             31\n",
       "        Vending                                      21\n",
       "        Noise - House of Worship                     18\n",
       "        Noise - Residential                          17\n",
       "        Drinking                                     14\n",
       "        Urinating in Public                          12\n",
       "        Graffiti                                     10\n",
       "        Bike/Roller/Skate Chronic                     8\n",
       "        Illegal Fireworks                             7\n",
       "        Panhandling                                   6\n",
       "        Non-Emergency Police Matter                   2\n",
       "        Posting Advertisement                         1\n",
       "TLC     Taxi Complaint                              661\n",
       "        For Hire Vehicle Complaint                   92\n",
       "        Taxi Report                                  22\n",
       "        Found Property                                7\n",
       "dtype: int64"
      ]
     },
     "execution_count": 48,
     "metadata": {},
     "output_type": "execute_result"
    }
   ],
   "source": [
    "data311.groupby('Agency')['Complaint Type'].value_counts()"
   ]
  },
  {
   "cell_type": "markdown",
   "metadata": {},
   "source": [
    "# Complaints per year"
   ]
  },
  {
   "cell_type": "code",
   "execution_count": 65,
   "metadata": {
    "collapsed": true
   },
   "outputs": [],
   "source": [
    "#creating column per year and parsing dates\n",
    "data311['Created Date'] = pd.to_datetime(data311['Created Date'], format = '%m/%d/%Y %I:%M:%S %p')\n",
    "data311['year'] = data311['Created Date'].apply(lambda x: x.year)"
   ]
  },
  {
   "cell_type": "code",
   "execution_count": 72,
   "metadata": {
    "collapsed": false
   },
   "outputs": [
    {
     "data": {
      "image/png": "[encoded data removed]",
      "text/plain": [
       "<matplotlib.figure.Figure at 0x12316b2d0>"
      ]
     },
     "metadata": {},
     "output_type": "display_data"
    }
   ],
   "source": [
    "#plotting complaints per year\n",
    "data311['year'].value_counts().sort_index().plot(kind='bar', color='green', alpha=.6, title='Total complaints per year');"
   ]
  },
  {
   "cell_type": "code",
   "execution_count": null,
   "metadata": {
    "collapsed": true
   },
   "outputs": [],
   "source": []
  }
 ],
 "metadata": {
  "kernelspec": {
   "display_name": "Python 2",
   "language": "python",
   "name": "python2"
  },
  "language_info": {
   "codemirror_mode": {
    "name": "ipython",
    "version": 2
   },
   "file_extension": ".py",
   "mimetype": "text/x-python",
   "name": "python",
   "nbconvert_exporter": "python",
   "pygments_lexer": "ipython2",
   "version": "2.7.11"
  }
 },
 "nbformat": 4,
 "nbformat_minor": 0
}
